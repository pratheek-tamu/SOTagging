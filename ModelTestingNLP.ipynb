{
  "nbformat": 4,
  "nbformat_minor": 0,
  "metadata": {
    "colab": {
      "provenance": []
    },
    "kernelspec": {
      "name": "python3",
      "display_name": "Python 3"
    },
    "language_info": {
      "name": "python"
    }
  },
  "cells": [
    {
      "cell_type": "code",
      "metadata": {
        "id": "AAuPhsgtmjh8"
      },
      "source": [
        "import pandas as pd\n",
        "import numpy as np\n",
        "from sklearn.multiclass import OneVsRestClassifier\n",
        "from sklearn.naive_bayes import MultinomialNB\n",
        "from sklearn.metrics import f1_score, confusion_matrix\n"
      ],
      "execution_count": null,
      "outputs": []
    },
    {
      "cell_type": "code",
      "metadata": {
        "id": "h2jl_wk0nH-l"
      },
      "source": [
        "from sklearn.preprocessing import MultiLabelBinarizer\n",
        "mlb = MultiLabelBinarizer()\n",
        "\n",
        "from sklearn.model_selection import train_test_split\n",
        "from sklearn.feature_extraction.text import TfidfVectorizer\n",
        "\n",
        "pd.set_option('display.max_colwidth', 200)"
      ],
      "execution_count": null,
      "outputs": []
    },
    {
      "cell_type": "code",
      "metadata": {
        "colab": {
          "base_uri": "https://localhost:8080/"
        },
        "id": "IvE8sUwn0Lx7",
        "outputId": "c6926d24-bb17-46cf-90d0-b433efc2c13c"
      },
      "source": [
        "#NLP Libraries\n",
        "import nltk\n",
        "nltk.download('punkt')\n",
        "nltk.download('stopwords')\n",
        "from nltk.stem import PorterStemmer\n",
        "from nltk.corpus import stopwords"
      ],
      "execution_count": null,
      "outputs": [
        {
          "output_type": "stream",
          "name": "stdout",
          "text": [
            "[nltk_data] Downloading package punkt to /root/nltk_data...\n",
            "[nltk_data]   Package punkt is already up-to-date!\n",
            "[nltk_data] Downloading package stopwords to /root/nltk_data...\n",
            "[nltk_data]   Package stopwords is already up-to-date!\n"
          ]
        }
      ]
    },
    {
      "cell_type": "code",
      "metadata": {
        "colab": {
          "base_uri": "https://localhost:8080/"
        },
        "id": "Y9zMlRfqnl50",
        "outputId": "9f3ca1c8-e080-4dba-cd4c-68187b6c07f3"
      },
      "source": [
        "from google.colab import drive\n",
        "drive.mount('/content/drive')"
      ],
      "execution_count": null,
      "outputs": [
        {
          "output_type": "stream",
          "name": "stdout",
          "text": [
            "Drive already mounted at /content/drive; to attempt to forcibly remount, call drive.mount(\"/content/drive\", force_remount=True).\n"
          ]
        }
      ]
    },
    {
      "cell_type": "code",
      "metadata": {
        "id": "lNnAsdkOno64"
      },
      "source": [
        "# read in the data\n",
        "from ast import literal_eval\n",
        "path = \"/content/drive/MyDrive/SOdata/SOdata-Cleaned.csv\"\n",
        "rdf = pd.read_csv(path, converters={'tags': literal_eval})"
      ],
      "execution_count": null,
      "outputs": []
    },
    {
      "cell_type": "code",
      "metadata": {
        "id": "dsCKjTDg7R_R"
      },
      "source": [
        "df = rdf.loc[:, ['title', 'text', 'tags']]"
      ],
      "execution_count": null,
      "outputs": []
    },
    {
      "cell_type": "code",
      "metadata": {
        "id": "DN9gakfo7RW1"
      },
      "source": [
        "# dropping instances without a title/text/tag\n",
        "df.dropna(inplace=True)"
      ],
      "execution_count": null,
      "outputs": []
    },
    {
      "cell_type": "code",
      "metadata": {
        "colab": {
          "base_uri": "https://localhost:8080/",
          "height": 354
        },
        "id": "LJAaKNzuylB_",
        "outputId": "20e88ba5-717a-41d7-dd7f-897beb1a93c8"
      },
      "source": [
        "# Stemming\n",
        "def token(s):\n",
        "  return nltk.sent_tokenize(s)\n",
        "\n",
        "df['tokenized_text'] = df['text']\n",
        "\n",
        "for index in df.index:\n",
        "  s = df['text'][index]\n",
        "  s = token(s)\n",
        "  l = []\n",
        "  for i in range(len(s)):\n",
        "    s[i] = s[i].lower()\n",
        "    words = nltk.word_tokenize(s[i])\n",
        "    words = [stemmer.stem(word) for word in words if word not in set(stopwords.words('english'))]\n",
        "    s[i] = ' '.join(words)\n",
        "    l.append(s[i])\n",
        "\n",
        "  df['tokenized_text'][index] = l\n",
        "\n",
        "df.head()"
      ],
      "execution_count": null,
      "outputs": [
        {
          "output_type": "execute_result",
          "data": {
            "text/html": [
              "<div>\n",
              "<style scoped>\n",
              "    .dataframe tbody tr th:only-of-type {\n",
              "        vertical-align: middle;\n",
              "    }\n",
              "\n",
              "    .dataframe tbody tr th {\n",
              "        vertical-align: top;\n",
              "    }\n",
              "\n",
              "    .dataframe thead th {\n",
              "        text-align: right;\n",
              "    }\n",
              "</style>\n",
              "<table border=\"1\" class=\"dataframe\">\n",
              "  <thead>\n",
              "    <tr style=\"text-align: right;\">\n",
              "      <th></th>\n",
              "      <th>title</th>\n",
              "      <th>text</th>\n",
              "      <th>tags</th>\n",
              "      <th>tokenized_text</th>\n",
              "    </tr>\n",
              "  </thead>\n",
              "  <tbody>\n",
              "    <tr>\n",
              "      <th>0</th>\n",
              "      <td>get asset images dynamically in React.js</td>\n",
              "      <td>My assets I want to import all of them dynamically. Such like this... How can I achieve it in React.js</td>\n",
              "      <td>[javascript, reactjs]</td>\n",
              "      <td>[asset want import dynam ., like ... achiev react.j]</td>\n",
              "    </tr>\n",
              "    <tr>\n",
              "      <th>1</th>\n",
              "      <td>Use apply function avoiding nans</td>\n",
              "      <td>I have this function: I want to apply decdeg2dms fuction to some columns in a  so i wrote this code: But i get this error: I don't want to remove nan values, just apply the function in the non NaN...</td>\n",
              "      <td>[python, pandas]</td>\n",
              "      <td>[function : want appli decdeg2dm fuction column wrote code : get error : n't want remov nan valu , appli function non nan valu tri : get error : appli function non nan valu without remov nan valu ?]</td>\n",
              "    </tr>\n",
              "    <tr>\n",
              "      <th>2</th>\n",
              "      <td>How can I change price on changing selecting different from dropdown? (Django)</td>\n",
              "      <td>Html Script Problem In the dropdown I have different values from the server and {{val.price}} represents the price of each item. Now what I want is that if I change the option value from the dropd...</td>\n",
              "      <td>[javascript, html, django, ajax]</td>\n",
              "      <td>[html script problem dropdown differ valu server { { val.pric } } repres price item ., want chang option valu dropdown price updat &amp; quot ; price &amp; quot ; respect .]</td>\n",
              "    </tr>\n",
              "    <tr>\n",
              "      <th>3</th>\n",
              "      <td>Extracting the exact word between two words without question mark in python using REGEX</td>\n",
              "      <td>I am trying to extract a word between two specific words in a string. Here is what I have tried so far, I can replace the question mark with a blank space to get the desired output but I am lookin...</td>\n",
              "      <td>[python, python-3.x, regex]</td>\n",
              "      <td>[tri extract word two specif word string ., tri far , replac question mark blank space get desir output look way extract exact word question mark next word .]</td>\n",
              "    </tr>\n",
              "    <tr>\n",
              "      <th>4</th>\n",
              "      <td>jQuery I want to list only users with postion : 2 from database</td>\n",
              "      <td>My problem is that I don't know how to list users with position 2. I have one user class and enumeration class called postion and I have three positions (admin, member, coach). And I want to list ...</td>\n",
              "      <td>[javascript, jquery, ajax, database]</td>\n",
              "      <td>[problem n't know list user posit 2 ., one user class enumer class call postion three posit ( admin , member , coach ) ., want list user whose posit 2 , , coach , via ajax ., anyon know put could ...</td>\n",
              "    </tr>\n",
              "  </tbody>\n",
              "</table>\n",
              "</div>"
            ],
            "text/plain": [
              "                                                                                     title  ...                                                                                                                                                                                           tokenized_text\n",
              "0                                                 get asset images dynamically in React.js  ...                                                                                                                                                     [asset want import dynam ., like ... achiev react.j]\n",
              "1                                                         Use apply function avoiding nans  ...   [function : want appli decdeg2dm fuction column wrote code : get error : n't want remov nan valu , appli function non nan valu tri : get error : appli function non nan valu without remov nan valu ?]\n",
              "2           How can I change price on changing selecting different from dropdown? (Django)  ...                                    [html script problem dropdown differ valu server { { val.pric } } repres price item ., want chang option valu dropdown price updat & quot ; price & quot ; respect .]\n",
              "3  Extracting the exact word between two words without question mark in python using REGEX  ...                                           [tri extract word two specif word string ., tri far , replac question mark blank space get desir output look way extract exact word question mark next word .]\n",
              "4                          jQuery I want to list only users with postion : 2 from database  ...  [problem n't know list user posit 2 ., one user class enumer class call postion three posit ( admin , member , coach ) ., want list user whose posit 2 , , coach , via ajax ., anyon know put could ...\n",
              "\n",
              "[5 rows x 4 columns]"
            ]
          },
          "metadata": {},
          "execution_count": 56
        }
      ]
    },
    {
      "cell_type": "code",
      "metadata": {
        "id": "zj4wIGCl-noF"
      },
      "source": [
        "df.to_csv('SOdata-Tokenized.csv', index=False)\n",
        "!cp SOdata-Tokenized.csv \"drive/My Drive/SOdata-Tokenized.csv\""
      ],
      "execution_count": null,
      "outputs": []
    },
    {
      "cell_type": "code",
      "metadata": {
        "id": "5gZOm0aVym91"
      },
      "source": [
        "s = df.text[2]\n",
        "s = token(s)\n",
        "print(s)\n",
        "for i in range(len(s)):\n",
        "    words = nltk.word_tokenize(s[i])\n",
        "    words = [stemmer.stem(word) for word in words if word not in set(stopwords.words('english'))]\n",
        "    s[i] = ' '.join(words)\n",
        "\n",
        "print(s)\n",
        "print(type(s))"
      ],
      "execution_count": null,
      "outputs": []
    },
    {
      "cell_type": "code",
      "metadata": {
        "id": "EdpecW1gynla",
        "colab": {
          "base_uri": "https://localhost:8080/",
          "height": 719
        },
        "outputId": "8640c751-dc46-4b6d-cac9-db923368dc0e"
      },
      "source": [
        "df2 = pd.read_csv(\"/content/SOdata-Tokenized.csv\")\n",
        "df2"
      ],
      "execution_count": null,
      "outputs": [
        {
          "output_type": "execute_result",
          "data": {
            "text/html": [
              "<div>\n",
              "<style scoped>\n",
              "    .dataframe tbody tr th:only-of-type {\n",
              "        vertical-align: middle;\n",
              "    }\n",
              "\n",
              "    .dataframe tbody tr th {\n",
              "        vertical-align: top;\n",
              "    }\n",
              "\n",
              "    .dataframe thead th {\n",
              "        text-align: right;\n",
              "    }\n",
              "</style>\n",
              "<table border=\"1\" class=\"dataframe\">\n",
              "  <thead>\n",
              "    <tr style=\"text-align: right;\">\n",
              "      <th></th>\n",
              "      <th>title</th>\n",
              "      <th>text</th>\n",
              "      <th>tags</th>\n",
              "      <th>tokenized_text</th>\n",
              "    </tr>\n",
              "  </thead>\n",
              "  <tbody>\n",
              "    <tr>\n",
              "      <th>0</th>\n",
              "      <td>get asset images dynamically in React.js</td>\n",
              "      <td>My assets I want to import all of them dynamically. Such like this... How can I achieve it in React.js</td>\n",
              "      <td>['javascript', 'reactjs']</td>\n",
              "      <td>['asset want import dynam .', 'like ... achiev react.j']</td>\n",
              "    </tr>\n",
              "    <tr>\n",
              "      <th>1</th>\n",
              "      <td>Use apply function avoiding nans</td>\n",
              "      <td>I have this function: I want to apply decdeg2dms fuction to some columns in a  so i wrote this code: But i get this error: I don't want to remove nan values, just apply the function in the non NaN...</td>\n",
              "      <td>['python', 'pandas']</td>\n",
              "      <td>[\"function : want appli decdeg2dm fuction column wrote code : get error : n't want remov nan valu , appli function non nan valu tri : get error : appli function non nan valu without remov nan valu...</td>\n",
              "    </tr>\n",
              "    <tr>\n",
              "      <th>2</th>\n",
              "      <td>How can I change price on changing selecting different from dropdown? (Django)</td>\n",
              "      <td>Html Script Problem In the dropdown I have different values from the server and {{val.price}} represents the price of each item. Now what I want is that if I change the option value from the dropd...</td>\n",
              "      <td>['javascript', 'html', 'django', 'ajax']</td>\n",
              "      <td>['html script problem dropdown differ valu server { { val.pric } } repres price item .', 'want chang option valu dropdown price updat &amp; quot ; price &amp; quot ; respect .']</td>\n",
              "    </tr>\n",
              "    <tr>\n",
              "      <th>3</th>\n",
              "      <td>Extracting the exact word between two words without question mark in python using REGEX</td>\n",
              "      <td>I am trying to extract a word between two specific words in a string. Here is what I have tried so far, I can replace the question mark with a blank space to get the desired output but I am lookin...</td>\n",
              "      <td>['python', 'python-3.x', 'regex']</td>\n",
              "      <td>['tri extract word two specif word string .', 'tri far , replac question mark blank space get desir output look way extract exact word question mark next word .']</td>\n",
              "    </tr>\n",
              "    <tr>\n",
              "      <th>4</th>\n",
              "      <td>jQuery I want to list only users with postion : 2 from database</td>\n",
              "      <td>My problem is that I don't know how to list users with position 2. I have one user class and enumeration class called postion and I have three positions (admin, member, coach). And I want to list ...</td>\n",
              "      <td>['javascript', 'jquery', 'ajax', 'database']</td>\n",
              "      <td>[\"problem n't know list user posit 2 .\", 'one user class enumer class call postion three posit ( admin , member , coach ) .', 'want list user whose posit 2 , , coach , via ajax .', 'anyon know put...</td>\n",
              "    </tr>\n",
              "    <tr>\n",
              "      <th>...</th>\n",
              "      <td>...</td>\n",
              "      <td>...</td>\n",
              "      <td>...</td>\n",
              "      <td>...</td>\n",
              "    </tr>\n",
              "    <tr>\n",
              "      <th>188361</th>\n",
              "      <td>PHP's exec() returns a different result than running the command in the shell</td>\n",
              "      <td>so I've read a lot of similar questions on here, none have answered my question. The problem is that whenever I run  in PHP using  or shell_, it gives me \"no crontab for X\" (where X is my username...</td>\n",
              "      <td>['php']</td>\n",
              "      <td>[\"'ve read lot similar question , none answer question .\", \"problem whenev run php use shell_ , give `` crontab x '' ( x usernam ) , run command shell ( via ssh ) , get correct result .\", 'n.b .',...</td>\n",
              "    </tr>\n",
              "    <tr>\n",
              "      <th>188362</th>\n",
              "      <td>Why the menu is not always displayed with HTML and Javascript?</td>\n",
              "      <td>I want to separate the menu (navbar) in an external html page and load it in all my html pages. I have some css and animation in nav-animation.js that should be loaded after menu is loaded. So I h...</td>\n",
              "      <td>['javascript', 'jquery', 'html']</td>\n",
              "      <td>['want separ menu ( navbar ) extern html page load html page .', 'css anim nav-animation.j load menu load .', \"navbar.html file like : nav.j script load menu menu anim : html page , import jqueri ...</td>\n",
              "    </tr>\n",
              "    <tr>\n",
              "      <th>188363</th>\n",
              "      <td>How to create a thread inside a class?</td>\n",
              "      <td>Error C2065 'function': undeclared identifier How to create thread inside a class not using any static function?</td>\n",
              "      <td>['c++']</td>\n",
              "      <td>[\"error c2065 'function ' : undeclar identifi creat thread insid class use static function ?\"]</td>\n",
              "    </tr>\n",
              "    <tr>\n",
              "      <th>188364</th>\n",
              "      <td>Calling multiple variables in another Sub</td>\n",
              "      <td>I have a problem when I try to use a variable created in a subroutine in another subroutine. In the following example, I create variables Power_Origine, Power_Destination, ... in the Sub part0, I ...</td>\n",
              "      <td>['excel', 'vba']</td>\n",
              "      <td>['problem tri use variabl creat subroutin anoth subroutin .', \"follow exampl , creat variabl power_origin , power_destin , ... sub part0 , use one sub part1 , ca n't use 1 variabl singl subroutin ...</td>\n",
              "    </tr>\n",
              "    <tr>\n",
              "      <th>188365</th>\n",
              "      <td>interpolate a string with an incrementing number</td>\n",
              "      <td>Im trying to interpolate a string with a number and increment that number as I iterate a list of attendees... String  I know how to iterate each guest name, but how do I get a number to increment ...</td>\n",
              "      <td>['ruby']</td>\n",
              "      <td>['im tri interpol string number increment number iter list attende ...', 'string know iter guest name , get number increment within string ?', 'know simpl .', 'beginn .', 'tri everyth .']</td>\n",
              "    </tr>\n",
              "  </tbody>\n",
              "</table>\n",
              "<p>188366 rows × 4 columns</p>\n",
              "</div>"
            ],
            "text/plain": [
              "                                                                                          title  ...                                                                                                                                                                                           tokenized_text\n",
              "0                                                      get asset images dynamically in React.js  ...                                                                                                                                                 ['asset want import dynam .', 'like ... achiev react.j']\n",
              "1                                                              Use apply function avoiding nans  ...  [\"function : want appli decdeg2dm fuction column wrote code : get error : n't want remov nan valu , appli function non nan valu tri : get error : appli function non nan valu without remov nan valu...\n",
              "2                How can I change price on changing selecting different from dropdown? (Django)  ...                                ['html script problem dropdown differ valu server { { val.pric } } repres price item .', 'want chang option valu dropdown price updat & quot ; price & quot ; respect .']\n",
              "3       Extracting the exact word between two words without question mark in python using REGEX  ...                                       ['tri extract word two specif word string .', 'tri far , replac question mark blank space get desir output look way extract exact word question mark next word .']\n",
              "4                               jQuery I want to list only users with postion : 2 from database  ...  [\"problem n't know list user posit 2 .\", 'one user class enumer class call postion three posit ( admin , member , coach ) .', 'want list user whose posit 2 , , coach , via ajax .', 'anyon know put...\n",
              "...                                                                                         ...  ...                                                                                                                                                                                                      ...\n",
              "188361            PHP's exec() returns a different result than running the command in the shell  ...  [\"'ve read lot similar question , none answer question .\", \"problem whenev run php use shell_ , give `` crontab x '' ( x usernam ) , run command shell ( via ssh ) , get correct result .\", 'n.b .',...\n",
              "188362                           Why the menu is not always displayed with HTML and Javascript?  ...  ['want separ menu ( navbar ) extern html page load html page .', 'css anim nav-animation.j load menu load .', \"navbar.html file like : nav.j script load menu menu anim : html page , import jqueri ...\n",
              "188363                                                   How to create a thread inside a class?  ...                                                                                                           [\"error c2065 'function ' : undeclar identifi creat thread insid class use static function ?\"]\n",
              "188364                                                Calling multiple variables in another Sub  ...  ['problem tri use variabl creat subroutin anoth subroutin .', \"follow exampl , creat variabl power_origin , power_destin , ... sub part0 , use one sub part1 , ca n't use 1 variabl singl subroutin ...\n",
              "188365                                         interpolate a string with an incrementing number  ...              ['im tri interpol string number increment number iter list attende ...', 'string know iter guest name , get number increment within string ?', 'know simpl .', 'beginn .', 'tri everyth .']\n",
              "\n",
              "[188366 rows x 4 columns]"
            ]
          },
          "metadata": {},
          "execution_count": 59
        }
      ]
    },
    {
      "cell_type": "code",
      "metadata": {
        "id": "HJpgx-sHvaXs"
      },
      "source": [
        "df2['tokenized_title'] = df2['title']\n",
        "\n",
        "for index in df2.index:\n",
        "  s = df2['title'][index]\n",
        "  s = token(s)\n",
        "  l = []\n",
        "  for i in range(len(s)):\n",
        "    s[i] = s[i].lower()\n",
        "    words = nltk.word_tokenize(s[i])\n",
        "    words = [stemmer.stem(word) for word in words if word not in set(stopwords.words('english'))]\n",
        "    s[i] = ' '.join(words)\n",
        "    l.append(s[i])\n",
        "  print(index)\n",
        "\n",
        "  df2['tokenized_title'][index] = l\n",
        "\n",
        "df2"
      ],
      "execution_count": null,
      "outputs": []
    },
    {
      "cell_type": "code",
      "metadata": {
        "id": "YRsmCjkvxO3G"
      },
      "source": [
        "from sklearn.model_selection import train_test_split\n",
        "\n",
        "train_set, test_set = train_test_split(df, test_size=0.2, random_state=42)"
      ],
      "execution_count": null,
      "outputs": []
    },
    {
      "cell_type": "code",
      "metadata": {
        "id": "GXCQ29eQpQ8l"
      },
      "source": [
        "train_set"
      ],
      "execution_count": null,
      "outputs": []
    },
    {
      "cell_type": "code",
      "metadata": {
        "id": "Ly69W4X4skC9"
      },
      "source": [
        "# -*- coding: utf-8 -*-\n",
        "\"\"\"\n",
        "Created on Tue Jan  1 20:40:19 2019\n",
        "\n",
        "@author: Krish.Naik\n",
        "\"\"\"\n",
        "\n",
        "import nltk\n",
        "nltk.download('punkt')\n",
        "nltk.download('stopwords')\n",
        "from nltk.stem import PorterStemmer\n",
        "from nltk.corpus import stopwords\n",
        "\n",
        "paragraph = \"\"\"I have three visions for India. In 3000 years of our history, people from all over\n",
        "               the world have come and invaded us, captured our lands, conquered our minds.\n",
        "               From Alexander onwards, the Greeks, the Turks, the Moguls, the Portuguese, the British,\n",
        "               the French, the Dutch, all of them came and looted us, took over what was ours.\n",
        "               Yet we have not done this to any other nation. We have not conquered anyone.\n",
        "               We have not grabbed their land, their culture,\n",
        "               their history and tried to enforce our way of life on them.\n",
        "               Why? Because we respect the freedom of others.That is why my\n",
        "               first vision is that of freedom. I believe that India got its first vision of\n",
        "               this in 1857, when we started the War of Independence. It is this freedom that\n",
        "               we must protect and nurture and build on. If we are not free, no one will respect us.\n",
        "               My second vision for India’s development. For fifty years we have been a developing nation.\n",
        "               It is time we see ourselves as a developed nation. We are among the top 5 nations of the world\n",
        "               in terms of GDP. We have a 10 percent growth rate in most areas. Our poverty levels are falling.\n",
        "               Our achievements are being globally recognised today. Yet we lack the self-confidence to\n",
        "               see ourselves as a developed nation, self-reliant and self-assured. Isn’t this incorrect?\n",
        "               I have a third vision. India must stand up to the world. Because I believe that unless India\n",
        "               stands up to the world, no one will respect us. Only strength respects strength. We must be\n",
        "               strong not only as a military power but also as an economic power. Both must go hand-in-hand.\n",
        "               My good fortune was to have worked with three great minds. Dr. Vikram Sarabhai of the Dept. of\n",
        "               space, Professor Satish Dhawan, who succeeded him and Dr. Brahm Prakash, father of nuclear material.\n",
        "               I was lucky to have worked with all three of them closely and consider this the great opportunity of my life.\n",
        "               I see four milestones in my career\"\"\"\n",
        "\n",
        "\n",
        "sentences = nltk.sent_tokenize(paragraph)\n",
        "stemmer = PorterStemmer()\n",
        "print(type(sentences))\n",
        "# Stemming\n",
        "for i in range(len(sentences)):\n",
        "    words = nltk.word_tokenize(sentences[i])\n",
        "    words = [stemmer.stem(word) for word in words if word not in set(stopwords.words('english'))]\n",
        "    sentences[i] = ' '.join(words)\n",
        "\n",
        "print(sentences)\n",
        "\n",
        "\n",
        "\n",
        "\n",
        "\n",
        "\n",
        "\n",
        ""
      ],
      "execution_count": null,
      "outputs": []
    },
    {
      "cell_type": "code",
      "metadata": {
        "id": "-ceNBSZa08VD"
      },
      "source": [
        "df2.to_csv('SOdata-Tokenized.csv', index=False)\n",
        "!cp SOdata-Tokenized.csv \"/content/drive/MyDrive/SOdata/SOdata-Tokenized.csv\""
      ],
      "execution_count": null,
      "outputs": []
    }
  ]
}