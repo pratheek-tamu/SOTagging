{
  "nbformat": 4,
  "nbformat_minor": 0,
  "metadata": {
    "colab": {
      "provenance": []
    },
    "kernelspec": {
      "name": "python3",
      "display_name": "Python 3"
    },
    "language_info": {
      "name": "python"
    }
  },
  "cells": [
    {
      "cell_type": "code",
      "metadata": {
        "id": "um-fxKC47ljs"
      },
      "source": [
        "import pandas as pd\n",
        "import numpy as np"
      ],
      "execution_count": null,
      "outputs": []
    },
    {
      "cell_type": "code",
      "metadata": {
        "id": "_1xmFW4Q7oq3"
      },
      "source": [
        "# connect to google drive and read the cleaned dataset\n",
        "!pip install -U -q PyDrive\n",
        "from pydrive.auth import GoogleAuth\n",
        "from pydrive.drive import GoogleDrive\n",
        "from google.colab import auth\n",
        "from oauth2client.client import GoogleCredentials\n",
        "\n",
        "auth.authenticate_user()\n",
        "gauth = GoogleAuth()\n",
        "gauth.credentials = GoogleCredentials.get_application_default()\n",
        "drive = GoogleDrive(gauth)"
      ],
      "execution_count": null,
      "outputs": []
    },
    {
      "cell_type": "code",
      "metadata": {
        "id": "-FLhph_K7sXx"
      },
      "source": [
        "link = 'https://drive.google.com/file/d/1-0HtTUsJAZRdomnrosjiSr8Z7p_W9vEk/view?usp=sharing'\n",
        "id = link.split('/')[-2]\n",
        "downloaded = drive.CreateFile({'id':id})\n",
        "downloaded.GetContentFile('dataset.csv')"
      ],
      "execution_count": null,
      "outputs": []
    },
    {
      "cell_type": "code",
      "metadata": {
        "colab": {
          "base_uri": "https://localhost:8080/",
          "height": 254
        },
        "id": "TWe7N9-s8PN_",
        "outputId": "5824d8ca-c8fe-4e25-edc5-c7a72b16c0a5"
      },
      "source": [
        "df = pd.read_csv('dataset.csv')\n",
        "df.head()"
      ],
      "execution_count": null,
      "outputs": [
        {
          "output_type": "execute_result",
          "data": {
            "text/html": [
              "<div>\n",
              "<style scoped>\n",
              "    .dataframe tbody tr th:only-of-type {\n",
              "        vertical-align: middle;\n",
              "    }\n",
              "\n",
              "    .dataframe tbody tr th {\n",
              "        vertical-align: top;\n",
              "    }\n",
              "\n",
              "    .dataframe thead th {\n",
              "        text-align: right;\n",
              "    }\n",
              "</style>\n",
              "<table border=\"1\" class=\"dataframe\">\n",
              "  <thead>\n",
              "    <tr style=\"text-align: right;\">\n",
              "      <th></th>\n",
              "      <th>title</th>\n",
              "      <th>body</th>\n",
              "      <th>tags</th>\n",
              "      <th>answer_count</th>\n",
              "      <th>view_count</th>\n",
              "      <th>comment_count</th>\n",
              "      <th>score</th>\n",
              "    </tr>\n",
              "  </thead>\n",
              "  <tbody>\n",
              "    <tr>\n",
              "      <th>0</th>\n",
              "      <td>get asset images dynamically in React.js</td>\n",
              "      <td>&lt;p&gt;My assets&lt;/p&gt;\\n&lt;pre&gt;&lt;code&gt;/public\\n  /flags...</td>\n",
              "      <td>['javascript', 'reactjs']</td>\n",
              "      <td>1</td>\n",
              "      <td>39</td>\n",
              "      <td>0</td>\n",
              "      <td>2</td>\n",
              "    </tr>\n",
              "    <tr>\n",
              "      <th>1</th>\n",
              "      <td>Use apply function avoiding nans</td>\n",
              "      <td>&lt;p&gt;I have this function:&lt;/p&gt;\\n&lt;pre&gt;&lt;code&gt;#####...</td>\n",
              "      <td>['python', 'pandas']</td>\n",
              "      <td>2</td>\n",
              "      <td>39</td>\n",
              "      <td>1</td>\n",
              "      <td>3</td>\n",
              "    </tr>\n",
              "    <tr>\n",
              "      <th>2</th>\n",
              "      <td>How can I change price on changing selecting d...</td>\n",
              "      <td>&lt;p&gt;&lt;strong&gt;Html&lt;/strong&gt;&lt;/p&gt;\\n&lt;pre&gt;&lt;code&gt;&amp;lt;s...</td>\n",
              "      <td>['javascript', 'html', 'django', 'ajax']</td>\n",
              "      <td>0</td>\n",
              "      <td>39</td>\n",
              "      <td>5</td>\n",
              "      <td>1</td>\n",
              "    </tr>\n",
              "    <tr>\n",
              "      <th>3</th>\n",
              "      <td>Extracting the exact word between two words wi...</td>\n",
              "      <td>&lt;p&gt;I am trying to extract a word between two s...</td>\n",
              "      <td>['python', 'python-3.x', 'regex']</td>\n",
              "      <td>1</td>\n",
              "      <td>39</td>\n",
              "      <td>0</td>\n",
              "      <td>2</td>\n",
              "    </tr>\n",
              "    <tr>\n",
              "      <th>4</th>\n",
              "      <td>jQuery I want to list only users with postion ...</td>\n",
              "      <td>&lt;p&gt;My problem is that I don't know how to list...</td>\n",
              "      <td>['javascript', 'jquery', 'ajax', 'database']</td>\n",
              "      <td>1</td>\n",
              "      <td>39</td>\n",
              "      <td>4</td>\n",
              "      <td>2</td>\n",
              "    </tr>\n",
              "  </tbody>\n",
              "</table>\n",
              "</div>"
            ],
            "text/plain": [
              "                                               title  ... score\n",
              "0           get asset images dynamically in React.js  ...     2\n",
              "1                   Use apply function avoiding nans  ...     3\n",
              "2  How can I change price on changing selecting d...  ...     1\n",
              "3  Extracting the exact word between two words wi...  ...     2\n",
              "4  jQuery I want to list only users with postion ...  ...     2\n",
              "\n",
              "[5 rows x 7 columns]"
            ]
          },
          "metadata": {},
          "execution_count": 5
        }
      ]
    },
    {
      "cell_type": "code",
      "metadata": {
        "colab": {
          "base_uri": "https://localhost:8080/"
        },
        "id": "RAFrexOePzaK",
        "outputId": "1e141458-015e-4f07-ed79-c2c5545876b4"
      },
      "source": [
        "type(df['body'][2])"
      ],
      "execution_count": null,
      "outputs": [
        {
          "output_type": "execute_result",
          "data": {
            "text/plain": [
              "str"
            ]
          },
          "metadata": {},
          "execution_count": 6
        }
      ]
    },
    {
      "cell_type": "code",
      "metadata": {
        "colab": {
          "base_uri": "https://localhost:8080/"
        },
        "id": "LpaIAbCM8nzF",
        "outputId": "b7c1c231-4c1f-4631-ced6-d0a9f5d305b4"
      },
      "source": [
        "# Remove the code snippets from the questions\n",
        "df['code'] = df['body']\n",
        "for index in df.index :\n",
        "  string=str(df['body'][index])\n",
        "  code_start = [i for i in range(len(string)) if string.startswith('<code>', i)]\n",
        "  code_end =[i for i in range(len(string)) if string.startswith('</code>',i)]\n",
        "  code=list()\n",
        "  for i in range(len(code_start)):\n",
        "    c = [string[code_start[i]+6:code_end[i]]]\n",
        "    code.append(c)\n",
        "    df['body'][index] = df['body'][index].replace(c[0],'')\n",
        "  df['code'][index] = code"
      ],
      "execution_count": null,
      "outputs": [
        {
          "metadata": {
            "tags": null
          },
          "name": "stderr",
          "output_type": "stream",
          "text": [
            "/usr/local/lib/python3.7/dist-packages/ipykernel_launcher.py:10: SettingWithCopyWarning: \n",
            "A value is trying to be set on a copy of a slice from a DataFrame\n",
            "\n",
            "See the caveats in the documentation: https://pandas.pydata.org/pandas-docs/stable/user_guide/indexing.html#returning-a-view-versus-a-copy\n",
            "  # Remove the CWD from sys.path while we load stuff.\n",
            "/usr/local/lib/python3.7/dist-packages/ipykernel_launcher.py:11: SettingWithCopyWarning: \n",
            "A value is trying to be set on a copy of a slice from a DataFrame\n",
            "\n",
            "See the caveats in the documentation: https://pandas.pydata.org/pandas-docs/stable/user_guide/indexing.html#returning-a-view-versus-a-copy\n",
            "  # This is added back by InteractiveShellApp.init_path()\n"
          ]
        }
      ]
    },
    {
      "cell_type": "code",
      "metadata": {
        "colab": {
          "base_uri": "https://localhost:8080/",
          "height": 86
        },
        "id": "0zhUmMr-PffU",
        "outputId": "69c76abb-3a27-4190-d668-eb79057adad9"
      },
      "source": [
        "df['body'][5586]"
      ],
      "execution_count": null,
      "outputs": [
        {
          "output_type": "execute_result",
          "data": {
            "application/vnd.google.colaboratory.intrinsic+json": {
              "type": "string"
            },
            "text/plain": [
              "'<p>So I have a JSON lines file (.jl) which has been outputted into Pycharm while web scraping.</p>\\n<p>I would like to print the text, author and tags for each line in the file.</p>\\n<p>Firstly I just wanted to read the file line by line, and use json loads for each line of the file:</p>\\n<pre><code></code></pre>\\n<p>The file looks like the following, this is the first two lines:</p>\\n<pre><code></code></pre>\\n<p>But I am hitting the following error:</p>\\n<pre><code></code></pre>'"
            ]
          },
          "metadata": {},
          "execution_count": 8
        }
      ]
    },
    {
      "cell_type": "code",
      "metadata": {
        "colab": {
          "base_uri": "https://localhost:8080/"
        },
        "id": "kDm1WRAf80kC",
        "outputId": "0c3eb9c9-d49e-4728-93c5-5086598126cb"
      },
      "source": [
        "#Obtain the textual data from the body\n",
        "df['text'] = df['body']\n",
        "for index in df.index :\n",
        "  string=str(df['body'][index])\n",
        "  text_start = [i for i in range(len(string)) if string.startswith('<p>', i)]\n",
        "  text_end =[i for i in range(len(string)) if string.startswith('</p>',i)]\n",
        "  text=list()\n",
        "  try:\n",
        "    for i in range(len(text_start)):\n",
        "      t = [string[text_start[i]+3:text_end[i]]]\n",
        "      text.append(t)\n",
        "      df['body'][index] = df['body'][index].replace(t[0],'')\n",
        "  except:\n",
        "    continue\n",
        "  df['text'][index] = text"
      ],
      "execution_count": null,
      "outputs": [
        {
          "output_type": "stream",
          "name": "stderr",
          "text": [
            "/usr/local/lib/python3.7/dist-packages/ipykernel_launcher.py:11: SettingWithCopyWarning: \n",
            "A value is trying to be set on a copy of a slice from a DataFrame\n",
            "\n",
            "See the caveats in the documentation: https://pandas.pydata.org/pandas-docs/stable/user_guide/indexing.html#returning-a-view-versus-a-copy\n",
            "  # This is added back by InteractiveShellApp.init_path()\n",
            "/usr/local/lib/python3.7/dist-packages/ipykernel_launcher.py:14: SettingWithCopyWarning: \n",
            "A value is trying to be set on a copy of a slice from a DataFrame\n",
            "\n",
            "See the caveats in the documentation: https://pandas.pydata.org/pandas-docs/stable/user_guide/indexing.html#returning-a-view-versus-a-copy\n",
            "  \n"
          ]
        }
      ]
    },
    {
      "cell_type": "code",
      "metadata": {
        "id": "V-tDZUjYHR3z",
        "colab": {
          "base_uri": "https://localhost:8080/",
          "height": 35
        },
        "outputId": "c1ea03fb-f498-494e-ad2e-c9564b8411e0"
      },
      "source": [
        "df['body'][5586]"
      ],
      "execution_count": null,
      "outputs": [
        {
          "output_type": "execute_result",
          "data": {
            "application/vnd.google.colaboratory.intrinsic+json": {
              "type": "string"
            },
            "text/plain": [
              "'<p></p>\\n<p></p>\\n<p></p>\\n<pre><code></code></pre>\\n<p></p>\\n<pre><code></code></pre>\\n<p></p>\\n<pre><code></code></pre>'"
            ]
          },
          "metadata": {},
          "execution_count": 11
        }
      ]
    },
    {
      "cell_type": "code",
      "metadata": {
        "colab": {
          "base_uri": "https://localhost:8080/"
        },
        "id": "swP-joajKyAI",
        "outputId": "affe1a4d-a007-47af-c88a-cd429ef50779"
      },
      "source": [
        "df['text'][42069]"
      ],
      "execution_count": null,
      "outputs": [
        {
          "output_type": "execute_result",
          "data": {
            "text/plain": [
              "[[\"The class below defies my understing that <code></code> should return nil  not execute 'foo'\"],\n",
              " ['no matter what I tried, with or without parenthesis, <code></code> always returns undefined method another_boolean for nil nilclass. I thought if @user is nil it should stop evaluating there  return nil.'],\n",
              " [\"I also tried to look for the documentation of the &amp;&amp; operator inside the ruby documentation but could only find a reference to <code></code> which shouldn't be the same thing given their precedence difference.\"],\n",
              " ['Any help much appreciated.'],\n",
              " ['Ruby version: 2.2.5'],\n",
              " ['Edit:\\n@user  @variable are rails model'],\n",
              " ['Rails version: 4.2']]"
            ]
          },
          "metadata": {},
          "execution_count": 12
        }
      ]
    },
    {
      "cell_type": "code",
      "metadata": {
        "colab": {
          "base_uri": "https://localhost:8080/"
        },
        "id": "6zJra2nYK6ZA",
        "outputId": "461f479a-6d62-4ad0-dec7-bbbecdc8c9b9"
      },
      "source": [
        "from google.colab import drive\n",
        "drive.mount('drive')"
      ],
      "execution_count": null,
      "outputs": [
        {
          "output_type": "stream",
          "name": "stdout",
          "text": [
            "Mounted at drive\n"
          ]
        }
      ]
    },
    {
      "cell_type": "code",
      "metadata": {
        "id": "_HwAtOCyLNbr"
      },
      "source": [
        "df.to_csv('SOdata.csv', index=False)\n",
        "!cp SOdata-Intermediate.csv \"drive/My Drive/SOdata.csv\""
      ],
      "execution_count": null,
      "outputs": []
    }
  ]
}