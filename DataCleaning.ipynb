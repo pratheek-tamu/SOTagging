{
  "nbformat": 4,
  "nbformat_minor": 0,
  "metadata": {
    "colab": {
      "provenance": []
    },
    "kernelspec": {
      "name": "python3",
      "display_name": "Python 3"
    },
    "language_info": {
      "name": "python"
    }
  },
  "cells": [
    {
      "cell_type": "code",
      "metadata": {
        "id": "HeZBolcrCwl8"
      },
      "source": [
        "import pandas as pd\n",
        "import numpy as np"
      ],
      "execution_count": null,
      "outputs": []
    },
    {
      "cell_type": "code",
      "metadata": {
        "colab": {
          "base_uri": "https://localhost:8080/"
        },
        "id": "QJf6Qu6_C8ji",
        "outputId": "156db191-ad0b-4c40-8c6f-33cba1d9c567"
      },
      "source": [
        "from google.colab import drive\n",
        "drive.mount('/content/drive')"
      ],
      "execution_count": null,
      "outputs": [
        {
          "output_type": "stream",
          "name": "stdout",
          "text": [
            "Drive already mounted at /content/drive; to attempt to forcibly remount, call drive.mount(\"/content/drive\", force_remount=True).\n"
          ]
        }
      ]
    },
    {
      "cell_type": "code",
      "metadata": {
        "id": "xlsPx_6RDDyh"
      },
      "source": [
        "path = \"/content/drive/MyDrive/SOdata/SOdata-Intermediate.csv\"\n",
        "tdf = pd.read_csv(path)"
      ],
      "execution_count": null,
      "outputs": []
    },
    {
      "cell_type": "code",
      "metadata": {
        "id": "FGpYK5qgDY-n"
      },
      "source": [
        "#tdf = df.head(10)"
      ],
      "execution_count": null,
      "outputs": []
    },
    {
      "cell_type": "code",
      "metadata": {
        "id": "ulTtncbtRaEe"
      },
      "source": [
        "tdf.drop(\"body\", inplace=True, axis=1)"
      ],
      "execution_count": null,
      "outputs": []
    },
    {
      "cell_type": "code",
      "metadata": {
        "colab": {
          "base_uri": "https://localhost:8080/"
        },
        "id": "lLe2cqD1ETAP",
        "outputId": "ea32e372-cfa7-4b68-cd2e-b9caf368d5ea"
      },
      "source": [
        "for index in tdf.index:\n",
        "  try:\n",
        "    tdf['tags'][index] = eval(tdf['tags'][index])\n",
        "    tdf['text'][index] = eval(tdf['text'][index])\n",
        "    tdf['code'][index] = eval(tdf['code'][index])\n",
        "  except:\n",
        "    continue"
      ],
      "execution_count": null,
      "outputs": [
        {
          "output_type": "stream",
          "name": "stderr",
          "text": [
            "/usr/local/lib/python3.7/dist-packages/ipykernel_launcher.py:3: SettingWithCopyWarning: \n",
            "A value is trying to be set on a copy of a slice from a DataFrame\n",
            "\n",
            "See the caveats in the documentation: https://pandas.pydata.org/pandas-docs/stable/user_guide/indexing.html#returning-a-view-versus-a-copy\n",
            "  This is separate from the ipykernel package so we can avoid doing imports until\n",
            "/usr/local/lib/python3.7/dist-packages/ipykernel_launcher.py:4: SettingWithCopyWarning: \n",
            "A value is trying to be set on a copy of a slice from a DataFrame\n",
            "\n",
            "See the caveats in the documentation: https://pandas.pydata.org/pandas-docs/stable/user_guide/indexing.html#returning-a-view-versus-a-copy\n",
            "  after removing the cwd from sys.path.\n",
            "/usr/local/lib/python3.7/dist-packages/ipykernel_launcher.py:5: SettingWithCopyWarning: \n",
            "A value is trying to be set on a copy of a slice from a DataFrame\n",
            "\n",
            "See the caveats in the documentation: https://pandas.pydata.org/pandas-docs/stable/user_guide/indexing.html#returning-a-view-versus-a-copy\n",
            "  \"\"\"\n"
          ]
        }
      ]
    },
    {
      "cell_type": "code",
      "metadata": {
        "colab": {
          "base_uri": "https://localhost:8080/"
        },
        "id": "c7IVYcVwDa1p",
        "outputId": "ea4fc409-b707-4cd8-921c-2ddc552358a9"
      },
      "source": [
        "for index in tdf.index:\n",
        "  flatten_text = \" \".join([word for txt in tdf['text'][index] for word in txt])\n",
        "  tdf['text'][index] = flatten_text\n",
        "  flatten_code = \" \".join([code for txt in tdf['code'][index] for code in txt])\n",
        "  tdf['code'][index] = flatten_code\n",
        "\n",
        "print(tdf['text'][2])"
      ],
      "execution_count": null,
      "outputs": [
        {
          "output_type": "stream",
          "name": "stderr",
          "text": [
            "/usr/local/lib/python3.7/dist-packages/ipykernel_launcher.py:3: SettingWithCopyWarning: \n",
            "A value is trying to be set on a copy of a slice from a DataFrame\n",
            "\n",
            "See the caveats in the documentation: https://pandas.pydata.org/pandas-docs/stable/user_guide/indexing.html#returning-a-view-versus-a-copy\n",
            "  This is separate from the ipykernel package so we can avoid doing imports until\n",
            "/usr/local/lib/python3.7/dist-packages/ipykernel_launcher.py:5: SettingWithCopyWarning: \n",
            "A value is trying to be set on a copy of a slice from a DataFrame\n",
            "\n",
            "See the caveats in the documentation: https://pandas.pydata.org/pandas-docs/stable/user_guide/indexing.html#returning-a-view-versus-a-copy\n",
            "  \"\"\"\n"
          ]
        }
      ]
    },
    {
      "cell_type": "code",
      "metadata": {
        "id": "uMOhbVO4EKFv"
      },
      "source": [
        "print(tdf['text'][4])\n"
      ],
      "execution_count": null,
      "outputs": []
    },
    {
      "cell_type": "code",
      "metadata": {
        "colab": {
          "base_uri": "https://localhost:8080/"
        },
        "id": "udV1MmhzEP97",
        "outputId": "c0c0b0fe-6b09-43b1-ce42-83176d5454ab"
      },
      "source": [
        "import regex as re\n",
        "\n",
        "for index in tdf.index:\n",
        "  tdf['text'][index]=re.sub('<.*?>','',tdf['text'][index])\n",
        "  tdf['code'][index]=re.sub('\\n','',tdf['code'][index])\n",
        "  tdf['text'][index]=re.sub('\\n',' ',tdf['text'][index])"
      ],
      "execution_count": null,
      "outputs": [
        {
          "metadata": {
            "tags": null
          },
          "name": "stderr",
          "output_type": "stream",
          "text": [
            "/usr/local/lib/python3.7/dist-packages/ipykernel_launcher.py:4: SettingWithCopyWarning: \n",
            "A value is trying to be set on a copy of a slice from a DataFrame\n",
            "\n",
            "See the caveats in the documentation: https://pandas.pydata.org/pandas-docs/stable/user_guide/indexing.html#returning-a-view-versus-a-copy\n",
            "  after removing the cwd from sys.path.\n",
            "/usr/local/lib/python3.7/dist-packages/ipykernel_launcher.py:5: SettingWithCopyWarning: \n",
            "A value is trying to be set on a copy of a slice from a DataFrame\n",
            "\n",
            "See the caveats in the documentation: https://pandas.pydata.org/pandas-docs/stable/user_guide/indexing.html#returning-a-view-versus-a-copy\n",
            "  \"\"\"\n",
            "/usr/local/lib/python3.7/dist-packages/ipykernel_launcher.py:6: SettingWithCopyWarning: \n",
            "A value is trying to be set on a copy of a slice from a DataFrame\n",
            "\n",
            "See the caveats in the documentation: https://pandas.pydata.org/pandas-docs/stable/user_guide/indexing.html#returning-a-view-versus-a-copy\n",
            "  \n"
          ]
        }
      ]
    },
    {
      "cell_type": "code",
      "metadata": {
        "id": "kpJQupkdQHsF"
      },
      "source": [
        "tdf.to_csv('SOdata-Cleaned.csv', index=False)\n",
        "!cp SOdata-Cleaned.csv \"drive/My Drive/SOdata-Cleaned.csv\""
      ],
      "execution_count": null,
      "outputs": []
    },
    {
      "cell_type": "code",
      "metadata": {
        "colab": {
          "base_uri": "https://localhost:8080/",
          "height": 1000
        },
        "id": "pd6z1tvsjt_w",
        "outputId": "c862aaae-0c5d-41eb-a812-ed2069070a96"
      },
      "source": [
        "df = pd.read_csv(\"/content/SOdata-Cleaned.csv\")\n",
        "df"
      ],
      "execution_count": null,
      "outputs": [
        {
          "output_type": "execute_result",
          "data": {
            "text/html": [
              "<div>\n",
              "<style scoped>\n",
              "    .dataframe tbody tr th:only-of-type {\n",
              "        vertical-align: middle;\n",
              "    }\n",
              "\n",
              "    .dataframe tbody tr th {\n",
              "        vertical-align: top;\n",
              "    }\n",
              "\n",
              "    .dataframe thead th {\n",
              "        text-align: right;\n",
              "    }\n",
              "</style>\n",
              "<table border=\"1\" class=\"dataframe\">\n",
              "  <thead>\n",
              "    <tr style=\"text-align: right;\">\n",
              "      <th></th>\n",
              "      <th>title</th>\n",
              "      <th>tags</th>\n",
              "      <th>answer_count</th>\n",
              "      <th>view_count</th>\n",
              "      <th>comment_count</th>\n",
              "      <th>score</th>\n",
              "      <th>code</th>\n",
              "      <th>text</th>\n",
              "    </tr>\n",
              "  </thead>\n",
              "  <tbody>\n",
              "    <tr>\n",
              "      <th>0</th>\n",
              "      <td>get asset images dynamically in React.js</td>\n",
              "      <td>['javascript', 'reactjs']</td>\n",
              "      <td>1</td>\n",
              "      <td>39</td>\n",
              "      <td>0</td>\n",
              "      <td>2</td>\n",
              "      <td>/public  /flags    flags_a.png    flags_ramdom...</td>\n",
              "      <td>My assets I want to import all of them dynamic...</td>\n",
              "    </tr>\n",
              "    <tr>\n",
              "      <th>1</th>\n",
              "      <td>Use apply function avoiding nans</td>\n",
              "      <td>['python', 'pandas']</td>\n",
              "      <td>2</td>\n",
              "      <td>39</td>\n",
              "      <td>1</td>\n",
              "      <td>3</td>\n",
              "      <td>##############################################...</td>\n",
              "      <td>I have this function: I want to apply decdeg2d...</td>\n",
              "    </tr>\n",
              "    <tr>\n",
              "      <th>2</th>\n",
              "      <td>How can I change price on changing selecting d...</td>\n",
              "      <td>['javascript', 'html', 'django', 'ajax']</td>\n",
              "      <td>0</td>\n",
              "      <td>39</td>\n",
              "      <td>5</td>\n",
              "      <td>1</td>\n",
              "      <td>&amp;lt;select class=&amp;quot;tranactionID&amp;quot; styl...</td>\n",
              "      <td>Html Script Problem In the dropdown I have dif...</td>\n",
              "    </tr>\n",
              "    <tr>\n",
              "      <th>3</th>\n",
              "      <td>Extracting the exact word between two words wi...</td>\n",
              "      <td>['python', 'python-3.x', 'regex']</td>\n",
              "      <td>1</td>\n",
              "      <td>39</td>\n",
              "      <td>0</td>\n",
              "      <td>2</td>\n",
              "      <td>import rest = 'did this something?Yessomething...</td>\n",
              "      <td>I am trying to extract a word between two spec...</td>\n",
              "    </tr>\n",
              "    <tr>\n",
              "      <th>4</th>\n",
              "      <td>jQuery I want to list only users with postion ...</td>\n",
              "      <td>['javascript', 'jquery', 'ajax', 'database']</td>\n",
              "      <td>1</td>\n",
              "      <td>39</td>\n",
              "      <td>4</td>\n",
              "      <td>2</td>\n",
              "      <td>// ajax poziv za dobavljanje svih zaposleni...</td>\n",
              "      <td>My problem is that I don't know how to list us...</td>\n",
              "    </tr>\n",
              "    <tr>\n",
              "      <th>...</th>\n",
              "      <td>...</td>\n",
              "      <td>...</td>\n",
              "      <td>...</td>\n",
              "      <td>...</td>\n",
              "      <td>...</td>\n",
              "      <td>...</td>\n",
              "      <td>...</td>\n",
              "      <td>...</td>\n",
              "    </tr>\n",
              "    <tr>\n",
              "      <th>188668</th>\n",
              "      <td>PHP's exec() returns a different result than r...</td>\n",
              "      <td>['php']</td>\n",
              "      <td>0</td>\n",
              "      <td>106</td>\n",
              "      <td>3</td>\n",
              "      <td>2</td>\n",
              "      <td>crontab -l exec() shell_exec() whoami</td>\n",
              "      <td>so I've read a lot of similar questions on her...</td>\n",
              "    </tr>\n",
              "    <tr>\n",
              "      <th>188669</th>\n",
              "      <td>Why the menu is not always displayed with HTML...</td>\n",
              "      <td>['javascript', 'jquery', 'html']</td>\n",
              "      <td>0</td>\n",
              "      <td>106</td>\n",
              "      <td>4</td>\n",
              "      <td>1</td>\n",
              "      <td>&amp;lt;nav class=\"animation\"&amp;gt;  ...  ...&amp;lt;/na...</td>\n",
              "      <td>I want to separate the menu (navbar) in an ext...</td>\n",
              "    </tr>\n",
              "    <tr>\n",
              "      <th>188670</th>\n",
              "      <td>How to create a thread inside a class?</td>\n",
              "      <td>['c++']</td>\n",
              "      <td>2</td>\n",
              "      <td>106</td>\n",
              "      <td>7</td>\n",
              "      <td>2</td>\n",
              "      <td>class MyClass{    public:        friend void f...</td>\n",
              "      <td>Error C2065 'function': undeclared identifier ...</td>\n",
              "    </tr>\n",
              "    <tr>\n",
              "      <th>188671</th>\n",
              "      <td>Calling multiple variables in another Sub</td>\n",
              "      <td>['excel', 'vba']</td>\n",
              "      <td>1</td>\n",
              "      <td>106</td>\n",
              "      <td>0</td>\n",
              "      <td>1</td>\n",
              "      <td>Sub part0()Power_Origine = 1Description_Origin...</td>\n",
              "      <td>I have a problem when I try to use a variable ...</td>\n",
              "    </tr>\n",
              "    <tr>\n",
              "      <th>188672</th>\n",
              "      <td>interpolate a string with an incrementing number</td>\n",
              "      <td>['ruby']</td>\n",
              "      <td>3</td>\n",
              "      <td>106</td>\n",
              "      <td>5</td>\n",
              "      <td>2</td>\n",
              "      <td>\"Hello #{name}. You are guest number #{num}.\" ...</td>\n",
              "      <td>Im trying to interpolate a string with a numbe...</td>\n",
              "    </tr>\n",
              "  </tbody>\n",
              "</table>\n",
              "<p>188673 rows × 8 columns</p>\n",
              "</div>"
            ],
            "text/plain": [
              "                                                    title  ...                                               text\n",
              "0                get asset images dynamically in React.js  ...  My assets I want to import all of them dynamic...\n",
              "1                        Use apply function avoiding nans  ...  I have this function: I want to apply decdeg2d...\n",
              "2       How can I change price on changing selecting d...  ...  Html Script Problem In the dropdown I have dif...\n",
              "3       Extracting the exact word between two words wi...  ...  I am trying to extract a word between two spec...\n",
              "4       jQuery I want to list only users with postion ...  ...  My problem is that I don't know how to list us...\n",
              "...                                                   ...  ...                                                ...\n",
              "188668  PHP's exec() returns a different result than r...  ...  so I've read a lot of similar questions on her...\n",
              "188669  Why the menu is not always displayed with HTML...  ...  I want to separate the menu (navbar) in an ext...\n",
              "188670             How to create a thread inside a class?  ...  Error C2065 'function': undeclared identifier ...\n",
              "188671          Calling multiple variables in another Sub  ...  I have a problem when I try to use a variable ...\n",
              "188672   interpolate a string with an incrementing number  ...  Im trying to interpolate a string with a numbe...\n",
              "\n",
              "[188673 rows x 8 columns]"
            ]
          },
          "metadata": {},
          "execution_count": 13
        }
      ]
    },
    {
      "cell_type": "code",
      "metadata": {
        "colab": {
          "base_uri": "https://localhost:8080/"
        },
        "id": "7QhWalhjj7oq",
        "outputId": "456a5b04-e7a5-4e21-febf-f3992bd1e454"
      },
      "source": [
        "type(df['tags'][2])"
      ],
      "execution_count": null,
      "outputs": [
        {
          "output_type": "execute_result",
          "data": {
            "text/plain": [
              "str"
            ]
          },
          "metadata": {},
          "execution_count": 15
        }
      ]
    },
    {
      "cell_type": "code",
      "metadata": {
        "colab": {
          "base_uri": "https://localhost:8080/",
          "height": 271
        },
        "id": "U8gUVXWtkEtc",
        "outputId": "4f61497a-894f-4017-e848-616aab58ba81"
      },
      "source": [
        "df['text'][69420]"
      ],
      "execution_count": null,
      "outputs": [
        {
          "output_type": "execute_result",
          "data": {
            "application/vnd.google.colaboratory.intrinsic+json": {
              "type": "string"
            },
            "text/plain": [
              "\"So I'm learning html and CSS and trying to make images fit in a line. It seems that the below code isn't working: If I increase the  to , It will work but then It won't fit in a line. I can see in the example that the images auto resize to fit the . I've included pics in the below. Can someone help me with this? Thank you very much. code:   /*================== TABLE OF CONTENT =================*/   /*      1. RESET CSS       2. DEFAULT STYLE       3. STYLE PORTFOLIO     */   /*===============  1. RESET CSS ==============*/  * {   padding: 0;   : 0;   box-sizing: border-box; }  a {   text-decoration: none; }  li {   list-style: none; }   /*===============  2. DEFAULT STYLE ==============*/  .container {   max-width: 1170px;   padding: 0 12px;   : 0 auto;   height: 100%; }   /*===============  3. STYLE PORTFOLIO ==============*/  .container .heading {   text-align: center;   padding: 40px 0; }  .container .heading .heading-title {   padding: 20px;   font-size: 35px; }  .container .heading .heading-description {   font-size: 18px;   font-weight: 500;   font-style: italic;   color: gray; }  .container .portfolio-region {   padding-top: 40px; }  .container .portfolio-region .portfolio-item {   display: inline-block;   width: 30%; }  .container .portfolio-region ul {   text-align: center; }  .container .portfolio-region ul li:nth-child(2) {   : 0 30px; }  .container .portfolio-region .portfolio-item .img {   max-width: 100%; }  .container .portfolio-region .portfolio-item h4 {   padding-top: 20px;   font-size: 25px;   line-height: 40px; }  .container .portfolio-region .portfolio-item p {   color: #6C757F;   font-style: italic;   font-size: 18px;   padding-bottom: 20px; }      \""
            ]
          },
          "metadata": {},
          "execution_count": 16
        }
      ]
    },
    {
      "cell_type": "code",
      "metadata": {
        "colab": {
          "base_uri": "https://localhost:8080/",
          "height": 35
        },
        "id": "CF7tv8TAkNva",
        "outputId": "575e953f-d722-44c9-8ce5-75997e5d4461"
      },
      "source": [
        "df['tags'][69420]"
      ],
      "execution_count": null,
      "outputs": [
        {
          "output_type": "execute_result",
          "data": {
            "application/vnd.google.colaboratory.intrinsic+json": {
              "type": "string"
            },
            "text/plain": [
              "\"['html', 'css']\""
            ]
          },
          "metadata": {},
          "execution_count": 19
        }
      ]
    },
    {
      "cell_type": "code",
      "metadata": {
        "colab": {
          "base_uri": "https://localhost:8080/",
          "height": 69
        },
        "id": "LrBQo0YKkqRa",
        "outputId": "b4b2b0b8-4e35-4d8e-8844-cc0e20a84859"
      },
      "source": [
        "df['text'][10000]"
      ],
      "execution_count": null,
      "outputs": [
        {
          "output_type": "execute_result",
          "data": {
            "application/vnd.google.colaboratory.intrinsic+json": {
              "type": "string"
            },
            "text/plain": [
              "\"I want to detect (and return) any punctuation within brackets. The line of text I'm looking at will have multiple sets of brackets (which I can assume are properly formatted). So given something like this: I'd want to detect all those cases and return something like . I tried to do  but then it returns true for  which I don't want to match! I'm using JS!\""
            ]
          },
          "metadata": {},
          "execution_count": 26
        }
      ]
    },
    {
      "cell_type": "code",
      "metadata": {
        "id": "MInrHDZ_k_5l"
      },
      "source": [],
      "execution_count": null,
      "outputs": []
    }
  ]
}